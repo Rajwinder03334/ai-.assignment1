{
  "nbformat": 4,
  "nbformat_minor": 0,
  "metadata": {
    "colab": {
      "provenance": [],
      "authorship_tag": "ABX9TyNITuol6EIARRcNDwHLrVdF",
      "include_colab_link": true
    },
    "kernelspec": {
      "name": "python3",
      "display_name": "Python 3"
    },
    "language_info": {
      "name": "python"
    }
  },
  "cells": [
    {
      "cell_type": "markdown",
      "metadata": {
        "id": "view-in-github",
        "colab_type": "text"
      },
      "source": [
        "<a href=\"https://colab.research.google.com/github/Rajwinder03334/ai-.assignment1/blob/main/Assignment_4.ipynb\" target=\"_parent\"><img src=\"https://colab.research.google.com/assets/colab-badge.svg\" alt=\"Open In Colab\"/></a>"
      ]
    },
    {
      "cell_type": "code",
      "execution_count": 1,
      "metadata": {
        "colab": {
          "base_uri": "https://localhost:8080/"
        },
        "id": "YqJsHYBvhCfk",
        "outputId": "54507153-02bb-41ac-d6b4-dd5461000d87"
      },
      "outputs": [
        {
          "output_type": "stream",
          "name": "stdout",
          "text": [
            "Model performance with only 'bmi' and 's5':\n",
            "Mean Squared Error: 2901.8369415567036\n",
            "R-squared Score: 0.4522925957397932\n"
          ]
        }
      ],
      "source": [
        "import pandas as pd\n",
        "from sklearn.datasets import load_diabetes\n",
        "from sklearn.model_selection import train_test_split\n",
        "from sklearn.linear_model import LinearRegression\n",
        "from sklearn.metrics import mean_squared_error, r2_score\n",
        "\n",
        "# Load the diabetes dataset\n",
        "diabetes = load_diabetes()\n",
        "X, y = diabetes.data, diabetes.target\n",
        "\n",
        "# Split data into training and testing sets\n",
        "X_train, X_test, y_train, y_test = train_test_split(X, y, test_size=0.2, random_state=42)\n",
        "\n",
        "# Fit a linear regression model using only 'bmi' and 's5' as explanatory variables\n",
        "model_bmi_s5 = LinearRegression()\n",
        "model_bmi_s5.fit(X_train[:, [2, 8]], y_train)\n",
        "\n",
        "# Make predictions on the test set\n",
        "y_pred_bmi_s5 = model_bmi_s5.predict(X_test[:, [2, 8]])\n",
        "\n",
        "# Compute metrics for the model using only 'bmi' and 's5'\n",
        "mse_bmi_s5 = mean_squared_error(y_test, y_pred_bmi_s5)\n",
        "r2_bmi_s5 = r2_score(y_test, y_pred_bmi_s5)\n",
        "\n",
        "print(\"Model performance with only 'bmi' and 's5':\")\n",
        "print(\"Mean Squared Error:\", mse_bmi_s5)\n",
        "print(\"R-squared Score:\", r2_bmi_s5)\n"
      ]
    },
    {
      "cell_type": "code",
      "source": [
        "# a) To add another variable, let's evaluate which one might be relevant\n",
        "# We can compute correlations between target variable and each feature to identify potential candidates\n",
        "diabetes_df = pd.DataFrame(diabetes.data, columns=diabetes.feature_names)\n",
        "diabetes_df['target'] = diabetes.target\n",
        "correlations = diabetes_df.corr()['target'].abs().sort_values(ascending=False)\n",
        "print(\"\\nCorrelation of features with target variable:\")\n",
        "print(correlations)"
      ],
      "metadata": {
        "colab": {
          "base_uri": "https://localhost:8080/"
        },
        "id": "89ggFRMohyF2",
        "outputId": "fb995905-d16e-47c7-86b8-6a5281969aeb"
      },
      "execution_count": 2,
      "outputs": [
        {
          "output_type": "stream",
          "name": "stdout",
          "text": [
            "\n",
            "Correlation of features with target variable:\n",
            "target    1.000000\n",
            "bmi       0.586450\n",
            "s5        0.565883\n",
            "bp        0.441482\n",
            "s4        0.430453\n",
            "s3        0.394789\n",
            "s6        0.382483\n",
            "s1        0.212022\n",
            "age       0.187889\n",
            "s2        0.174054\n",
            "sex       0.043062\n",
            "Name: target, dtype: float64\n"
          ]
        }
      ]
    },
    {
      "cell_type": "code",
      "source": [
        "# b) Let's add the next relevant variable 'bp' and evaluate the model's performance\n",
        "model_bmi_s5_bp = LinearRegression()\n",
        "model_bmi_s5_bp.fit(X_train[:, [2, 8, 0]], y_train)\n",
        "\n",
        "# Make predictions on the test set\n",
        "y_pred_bmi_s5_bp = model_bmi_s5_bp.predict(X_test[:, [2, 8, 0]])\n",
        "\n",
        "# Compute metrics for the model with 'bmi', 's5', and 'bp'\n",
        "mse_bmi_s5_bp = mean_squared_error(y_test, y_pred_bmi_s5_bp)\n",
        "r2_bmi_s5_bp = r2_score(y_test, y_pred_bmi_s5_bp)\n",
        "\n",
        "print(\"\\nModel performance with 'bmi', 's5', and 'bp':\")\n",
        "print(\"Mean Squared Error:\", mse_bmi_s5_bp)\n",
        "print(\"R-squared Score:\", r2_bmi_s5_bp)"
      ],
      "metadata": {
        "colab": {
          "base_uri": "https://localhost:8080/"
        },
        "id": "6h1UTkG_if5z",
        "outputId": "7603ddd2-5cf5-4618-a945-71ae34bec8b4"
      },
      "execution_count": 3,
      "outputs": [
        {
          "output_type": "stream",
          "name": "stdout",
          "text": [
            "\n",
            "Model performance with 'bmi', 's5', and 'bp':\n",
            "Mean Squared Error: 2920.1261149142715\n",
            "R-squared Score: 0.4488406045123452\n"
          ]
        }
      ]
    },
    {
      "cell_type": "code",
      "source": [
        "# c) Let's add more variables and see if it improves the model\n",
        "# Add 'bmi', 's5', 'bp', and 's6' as explanatory variables\n",
        "model_all_vars = LinearRegression()\n",
        "model_all_vars.fit(X_train[:, [2, 8, 0, 9]], y_train)\n",
        "\n",
        "# Make predictions on the test set\n",
        "y_pred_all_vars = model_all_vars.predict(X_test[:, [2, 8, 0, 9]])\n",
        "\n",
        "# Compute metrics for the model with all selected variables\n",
        "mse_all_vars = mean_squared_error(y_test, y_pred_all_vars)\n",
        "r2_all_vars = r2_score(y_test, y_pred_all_vars)\n",
        "\n",
        "print(\"\\nModel performance with 'bmi', 's5', 'bp', and 's6':\")\n",
        "print(\"Mean Squared Error:\", mse_all_vars)\n",
        "print(\"R-squared Score:\", r2_all_vars)"
      ],
      "metadata": {
        "colab": {
          "base_uri": "https://localhost:8080/"
        },
        "id": "46g35IPNjHJo",
        "outputId": "82aca777-e176-46a7-8f93-1e212b85e17c"
      },
      "execution_count": 7,
      "outputs": [
        {
          "output_type": "stream",
          "name": "stdout",
          "text": [
            "\n",
            "Model performance with 'bmi', 's5', 'bp', and 's6':\n",
            "Mean Squared Error: 2908.325161802703\n",
            "R-squared Score: 0.4510679761830174\n"
          ]
        }
      ]
    },
    {
      "cell_type": "code",
      "source": [
        "# d) Let's add even more variables and see if it helps\n",
        "# Add 'bmi', 's5', 'bp', 's6', 'sex', 'age', 'bmi^2', and 's3' as explanatory variables\n",
        "model_more_vars = LinearRegression()\n",
        "model_more_vars.fit(X_train[:, [2, 8, 0, 9, 1, 3, 2**2, 3]], y_train)\n",
        "\n",
        "# Make predictions on the test set\n",
        "y_pred_more_vars = model_more_vars.predict(X_test[:, [2, 8, 0, 9, 1, 3, 2**2, 3]])\n",
        "\n",
        "# Compute metrics for the model with more variables\n",
        "mse_more_vars = mean_squared_error(y_test, y_pred_more_vars)\n",
        "r2_more_vars = r2_score(y_test, y_pred_more_vars)\n",
        "\n",
        "print(\"\\nModel performance with more variables:\")\n",
        "print(\"Mean Squared Error:\", mse_more_vars)\n",
        "print(\"R-squared Score:\", r2_more_vars)\n"
      ],
      "metadata": {
        "colab": {
          "base_uri": "https://localhost:8080/"
        },
        "id": "oYzEyr4Hjezm",
        "outputId": "1da3dcc6-690c-4143-a568-b567b017712c"
      },
      "execution_count": 8,
      "outputs": [
        {
          "output_type": "stream",
          "name": "stdout",
          "text": [
            "\n",
            "Model performance with more variables:\n",
            "Mean Squared Error: 2861.1573667782004\n",
            "R-squared Score: 0.45997066475506687\n"
          ]
        }
      ]
    },
    {
      "cell_type": "code",
      "source": [
        "\"\\nd) Adding even more variables may or may not help depending on the relevance of the added variables and the complexity\\nof the model. In this case, adding 'sex', 'age', 'bmi^2', and 's3' along with the previous variables did not \\nsignificantly improve the model's performance. The increase in complexity from adding more variables without substantial\\nimprovement in performance may lead to overfitting or increased computational cost without providing much benefit in\\npredictive accuracy.\\n\""
      ],
      "metadata": {
        "colab": {
          "base_uri": "https://localhost:8080/",
          "height": 72
        },
        "id": "u3kD2JxFk1wh",
        "outputId": "b36e20fd-1f30-4b3e-90a4-bba243a0b6d1"
      },
      "execution_count": 13,
      "outputs": [
        {
          "output_type": "execute_result",
          "data": {
            "text/plain": [
              "\"\\nd) Adding even more variables may or may not help depending on the relevance of the added variables and the complexity\\nof the model. In this case, adding 'sex', 'age', 'bmi^2', and 's3' along with the previous variables did not \\nsignificantly improve the model's performance. The increase in complexity from adding more variables without substantial\\nimprovement in performance may lead to overfitting or increased computational cost without providing much benefit in\\npredictive accuracy.\\n\""
            ],
            "application/vnd.google.colaboratory.intrinsic+json": {
              "type": "string"
            }
          },
          "metadata": {},
          "execution_count": 13
        }
      ]
    },
    {
      "cell_type": "code",
      "source": [],
      "metadata": {
        "id": "YQ1igJ6GlaJR"
      },
      "execution_count": null,
      "outputs": []
    }
  ]
}