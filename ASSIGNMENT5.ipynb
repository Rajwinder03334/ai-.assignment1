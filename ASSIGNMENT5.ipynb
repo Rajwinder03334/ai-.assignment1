{
  "nbformat": 4,
  "nbformat_minor": 0,
  "metadata": {
    "colab": {
      "provenance": [],
      "authorship_tag": "ABX9TyPn8xK6qKXzzB1DGL7c8z+f",
      "include_colab_link": true
    },
    "kernelspec": {
      "name": "python3",
      "display_name": "Python 3"
    },
    "language_info": {
      "name": "python"
    }
  },
  "cells": [
    {
      "cell_type": "markdown",
      "metadata": {
        "id": "view-in-github",
        "colab_type": "text"
      },
      "source": [
        "<a href=\"https://colab.research.google.com/github/Rajwinder03334/ai-.assignment1/blob/main/ASSIGNMENT5.ipynb\" target=\"_parent\"><img src=\"https://colab.research.google.com/assets/colab-badge.svg\" alt=\"Open In Colab\"/></a>"
      ]
    },
    {
      "cell_type": "code",
      "source": [
        "import pandas as pd\n",
        "import seaborn as sns\n",
        "from sklearn.model_selection import train_test_split\n",
        "from sklearn.linear_model import LogisticRegression\n",
        "from sklearn.metrics import confusion_matrix, accuracy_score\n",
        "\n",
        "# 1) Read the attached file \"bank.csv\" in the CSV file using pandas. Pay attention to the file delimiter.\n",
        "bank_data = pd.read_csv('bank.csv', delimiter=';')\n",
        "\n",
        "# Inspect the resulting dataframe\n",
        "print(\"Dataframe Info:\")\n",
        "print(bank_data.info())\n",
        "\n",
        "# 2) Pick data from the following columns to a second dataframe df2: y, job, marital, default, housing, poutcome.\n",
        "df2 = bank_data[['y', 'job', 'marital', 'default', 'housing', 'poutcome']]\n",
        "\n",
        "# 3) Convert categorical variables to dummy numerical values\n",
        "df3 = pd.get_dummies(df2, columns=['job', 'marital', 'default', 'housing', 'poutcome'])\n",
        "\n",
        "# 4) Produce a heat map of correlation coefficients for all variables in df3.\n",
        "correlation_matrix = df3.corr()\n",
        "plt.figure(figsize=(12, 8))\n",
        "sns.heatmap(correlation_matrix, annot=True, cmap='coolwarm')\n",
        "plt.title('Correlation Heatmap')\n",
        "plt.show()\n",
        "\n",
        "# 5) Select the column called y of df3 as the target variable y, and all the remaining columns for the explanatory variables X.\n",
        "X = df3.drop(columns=['y'])\n",
        "y = df3['y']\n",
        "\n",
        "# 6) Split the dataset into training and testing sets with 75/25 ratio.\n",
        "X_train, X_test, y_train, y_test = train_test_split(X, y, test_size=0.25, random_state=42)\n",
        "\n",
        "# 7) Setup a logistic regression model, train it with training data and predict on testing data.\n",
        "logistic_model = LogisticRegression()\n",
        "logistic_model.fit(X_train, y_train)\n",
        "y_pred = logistic_model.predict(X_test)\n",
        "\n",
        "# 8) Print the confusion matrix and accuracy score for the logistic regression model.\n",
        "conf_matrix = confusion_matrix(y_test, y_pred)\n",
        "accuracy = accuracy_score(y_test, y_pred)\n",
        "\n",
        "print(\"Confusion Matrix:\")\n",
        "print(conf_matrix)\n",
        "print(\"\\nAccuracy Score:\", accuracy)\n"
      ],
      "metadata": {
        "id": "Fv-0c4S0pnz7"
      },
      "execution_count": null,
      "outputs": []
    }
  ]
}